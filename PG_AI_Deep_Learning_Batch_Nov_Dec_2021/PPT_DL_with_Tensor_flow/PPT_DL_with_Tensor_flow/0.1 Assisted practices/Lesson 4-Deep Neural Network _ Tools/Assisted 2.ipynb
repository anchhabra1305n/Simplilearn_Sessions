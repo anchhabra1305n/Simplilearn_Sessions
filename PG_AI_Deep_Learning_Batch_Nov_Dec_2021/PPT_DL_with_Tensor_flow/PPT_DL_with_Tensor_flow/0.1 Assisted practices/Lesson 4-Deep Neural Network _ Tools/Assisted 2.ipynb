{
 "cells": [
  {
   "cell_type": "markdown",
   "metadata": {},
   "source": [
    "### Import Libraries"
   ]
  },
  {
   "cell_type": "code",
   "execution_count": 7,
   "metadata": {},
   "outputs": [],
   "source": [
    "from __future__ import print_function\n",
    "\n",
    "import keras\n",
    "from keras.datasets import mnist\n",
    "from keras.models import Sequential\n",
    "from keras.layers import Dense, Dropout\n",
    "from keras.optimizers import RMSprop"
   ]
  },
  {
   "cell_type": "markdown",
   "metadata": {},
   "source": [
    "### Defining batch size, classes and epochs"
   ]
  },
  {
   "cell_type": "code",
   "execution_count": 8,
   "metadata": {},
   "outputs": [],
   "source": [
    "batch_size = 128\n",
    "num_classes = 10\n",
    "epochs = 20"
   ]
  },
  {
   "cell_type": "markdown",
   "metadata": {},
   "source": [
    "### The data, split between train and test sets"
   ]
  },
  {
   "cell_type": "code",
   "execution_count": null,
   "metadata": {},
   "outputs": [],
   "source": [
    "(x_train, y_train), (x_test, y_test) = mnist.load_data()\n",
    "\n",
    "x_train = x_train.reshape(60000, 784)\n",
    "x_test = x_test.reshape(10000, 784)\n",
    "x_train = x_train.astype('float32')\n",
    "x_test = x_test.astype('float32')\n",
    "x_train /= 255\n",
    "x_test /= 255"
   ]
  },
  {
   "cell_type": "markdown",
   "metadata": {},
   "source": [
    "### Print the shape of the data"
   ]
  },
  {
   "cell_type": "code",
   "execution_count": 9,
   "metadata": {},
   "outputs": [
    {
     "name": "stdout",
     "output_type": "stream",
     "text": [
      "60000 train samples\n",
      "10000 test samples\n"
     ]
    }
   ],
   "source": [
    "print(x_train.shape[0], 'train samples')\n",
    "print(x_test.shape[0], 'test samples')"
   ]
  },
  {
   "cell_type": "markdown",
   "metadata": {},
   "source": [
    "### Convert class vectors to binary class matrices"
   ]
  },
  {
   "cell_type": "code",
   "execution_count": 16,
   "metadata": {},
   "outputs": [],
   "source": [
    "y_train = keras.utils.to_categorical(y_train, num_classes)\n",
    "y_test = keras.utils.to_categorical(y_test, num_classes)"
   ]
  },
  {
   "cell_type": "markdown",
   "metadata": {},
   "source": [
    "### Build the model"
   ]
  },
  {
   "cell_type": "code",
   "execution_count": 11,
   "metadata": {},
   "outputs": [
    {
     "name": "stdout",
     "output_type": "stream",
     "text": [
      "Model: \"sequential_3\"\n",
      "_________________________________________________________________\n",
      "Layer (type)                 Output Shape              Param #   \n",
      "=================================================================\n",
      "dense_7 (Dense)              (None, 512)               401920    \n",
      "_________________________________________________________________\n",
      "dropout_5 (Dropout)          (None, 512)               0         \n",
      "_________________________________________________________________\n",
      "dense_8 (Dense)              (None, 512)               262656    \n",
      "_________________________________________________________________\n",
      "dropout_6 (Dropout)          (None, 512)               0         \n",
      "_________________________________________________________________\n",
      "dense_9 (Dense)              (None, 10)                5130      \n",
      "=================================================================\n",
      "Total params: 669,706\n",
      "Trainable params: 669,706\n",
      "Non-trainable params: 0\n",
      "_________________________________________________________________\n"
     ]
    }
   ],
   "source": [
    "model = Sequential()\n",
    "model.add(Dense(512, activation='relu', input_shape=(784,)))\n",
    "model.add(Dropout(0.2))\n",
    "model.add(Dense(512, activation='relu'))\n",
    "model.add(Dropout(0.2))\n",
    "model.add(Dense(num_classes, activation='softmax'))\n",
    "\n",
    "model.summary()"
   ]
  },
  {
   "cell_type": "markdown",
   "metadata": {},
   "source": [
    "### Compile the model"
   ]
  },
  {
   "cell_type": "code",
   "execution_count": 12,
   "metadata": {},
   "outputs": [],
   "source": [
    "model.compile(loss='categorical_crossentropy',\n",
    "              optimizer=RMSprop(),\n",
    "              metrics=['accuracy'])"
   ]
  },
  {
   "cell_type": "markdown",
   "metadata": {},
   "source": [
    "### Fit the model"
   ]
  },
  {
   "cell_type": "code",
   "execution_count": 14,
   "metadata": {},
   "outputs": [
    {
     "name": "stdout",
     "output_type": "stream",
     "text": [
      "Train on 60000 samples, validate on 10000 samples\n",
      "Epoch 1/20\n",
      "60000/60000 [==============================] - 9s 150us/step - loss: 0.0204 - accuracy: 0.9953 - val_loss: 0.1224 - val_accuracy: 0.9844\n",
      "Epoch 2/20\n",
      "60000/60000 [==============================] - 9s 143us/step - loss: 0.0164 - accuracy: 0.9958 - val_loss: 0.1319 - val_accuracy: 0.9835\n",
      "Epoch 3/20\n",
      "60000/60000 [==============================] - 9s 145us/step - loss: 0.0161 - accuracy: 0.9959 - val_loss: 0.1480 - val_accuracy: 0.9829\n",
      "Epoch 4/20\n",
      "60000/60000 [==============================] - 9s 146us/step - loss: 0.0162 - accuracy: 0.9960 - val_loss: 0.1540 - val_accuracy: 0.9829\n",
      "Epoch 5/20\n",
      "60000/60000 [==============================] - 9s 147us/step - loss: 0.0156 - accuracy: 0.9963 - val_loss: 0.1533 - val_accuracy: 0.9848\n",
      "Epoch 6/20\n",
      "60000/60000 [==============================] - 9s 157us/step - loss: 0.0143 - accuracy: 0.9965 - val_loss: 0.1490 - val_accuracy: 0.9845\n",
      "Epoch 7/20\n",
      "60000/60000 [==============================] - 9s 154us/step - loss: 0.0145 - accuracy: 0.9966 - val_loss: 0.1473 - val_accuracy: 0.9847\n",
      "Epoch 8/20\n",
      "60000/60000 [==============================] - 9s 155us/step - loss: 0.0148 - accuracy: 0.9962 - val_loss: 0.1626 - val_accuracy: 0.9840\n",
      "Epoch 9/20\n",
      "60000/60000 [==============================] - 9s 150us/step - loss: 0.0143 - accuracy: 0.9966 - val_loss: 0.1539 - val_accuracy: 0.9820\n",
      "Epoch 10/20\n",
      "60000/60000 [==============================] - 9s 147us/step - loss: 0.0142 - accuracy: 0.9968 - val_loss: 0.1598 - val_accuracy: 0.9844\n",
      "Epoch 11/20\n",
      "60000/60000 [==============================] - 9s 152us/step - loss: 0.0140 - accuracy: 0.9965 - val_loss: 0.1540 - val_accuracy: 0.9834\n",
      "Epoch 12/20\n",
      "60000/60000 [==============================] - 9s 146us/step - loss: 0.0141 - accuracy: 0.9967 - val_loss: 0.1708 - val_accuracy: 0.9843\n",
      "Epoch 13/20\n",
      "60000/60000 [==============================] - 9s 149us/step - loss: 0.0122 - accuracy: 0.9970 - val_loss: 0.1532 - val_accuracy: 0.9837\n",
      "Epoch 14/20\n",
      "60000/60000 [==============================] - 9s 149us/step - loss: 0.0131 - accuracy: 0.9970 - val_loss: 0.1724 - val_accuracy: 0.9848\n",
      "Epoch 15/20\n",
      "60000/60000 [==============================] - 9s 151us/step - loss: 0.0140 - accuracy: 0.9968 - val_loss: 0.1688 - val_accuracy: 0.9846\n",
      "Epoch 16/20\n",
      "60000/60000 [==============================] - 9s 150us/step - loss: 0.0125 - accuracy: 0.9971 - val_loss: 0.1664 - val_accuracy: 0.9844\n",
      "Epoch 17/20\n",
      "60000/60000 [==============================] - 9s 148us/step - loss: 0.0144 - accuracy: 0.9970 - val_loss: 0.1721 - val_accuracy: 0.9834\n",
      "Epoch 18/20\n",
      "60000/60000 [==============================] - 9s 149us/step - loss: 0.0123 - accuracy: 0.9970 - val_loss: 0.1718 - val_accuracy: 0.9853\n",
      "Epoch 19/20\n",
      "60000/60000 [==============================] - 9s 149us/step - loss: 0.0124 - accuracy: 0.9974 - val_loss: 0.1933 - val_accuracy: 0.9842\n",
      "Epoch 20/20\n",
      "60000/60000 [==============================] - 9s 148us/step - loss: 0.0118 - accuracy: 0.9975 - val_loss: 0.1864 - val_accuracy: 0.9827\n"
     ]
    }
   ],
   "source": [
    "history = model.fit(x_train, y_train,\n",
    "                    batch_size=batch_size,\n",
    "                    epochs=epochs,\n",
    "                    verbose=1,\n",
    "                    validation_data=(x_test, y_test))\n",
    "score = model.evaluate(x_test, y_test, verbose=0)"
   ]
  },
  {
   "cell_type": "code",
   "execution_count": 15,
   "metadata": {},
   "outputs": [
    {
     "name": "stdout",
     "output_type": "stream",
     "text": [
      "Test loss: 0.186350203103865\n",
      "Test accuracy: 0.982699990272522\n"
     ]
    }
   ],
   "source": [
    "print('Test loss:', score[0])\n",
    "print('Test accuracy:', score[1])"
   ]
  },
  {
   "cell_type": "code",
   "execution_count": null,
   "metadata": {},
   "outputs": [],
   "source": []
  },
  {
   "cell_type": "code",
   "execution_count": null,
   "metadata": {},
   "outputs": [],
   "source": []
  }
 ],
 "metadata": {
  "kernelspec": {
   "display_name": "Python 3",
   "language": "python",
   "name": "python3"
  },
  "language_info": {
   "codemirror_mode": {
    "name": "ipython",
    "version": 3
   },
   "file_extension": ".py",
   "mimetype": "text/x-python",
   "name": "python",
   "nbconvert_exporter": "python",
   "pygments_lexer": "ipython3",
   "version": "3.7.3"
  }
 },
 "nbformat": 4,
 "nbformat_minor": 2
}
