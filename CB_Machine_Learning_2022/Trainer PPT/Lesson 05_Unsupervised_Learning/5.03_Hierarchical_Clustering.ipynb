{
 "cells": [
  {
   "cell_type": "markdown",
   "metadata": {
    "id": "zeD8WGmObs_I"
   },
   "source": [
    "# **Hierarchical Clustering**"
   ]
  },
  {
   "cell_type": "markdown",
   "metadata": {
    "id": "H9j_qmmEbzuy"
   },
   "source": [
    "## **Agenda**"
   ]
  },
  {
   "cell_type": "markdown",
   "metadata": {
    "id": "vOoy8vQqb-f9"
   },
   "source": [
    "In this session, we will cover the following concepts with the help of a business use case:\n",
    "* Hierarchical Clustering\n",
    "* Types of Hierarchical Clustering\n",
    "* Evaluate similarities between clusters"
   ]
  },
  {
   "cell_type": "markdown",
   "metadata": {
    "id": "lhaDIF7ATDV5"
   },
   "source": [
    "## <b> Hierarchical Clustering </b>\n",
    "\n",
    "\n",
    "Hierarchical clustering is where we build a cluster tree (dendrogram) to represent data, where each group (node) is linked to two or more successor groups. \n",
    "* The groups are nested and organized as a tree, which ideally ends up as a meaningful classification scheme.\n",
    "* Each node in the cluster tree contains a group of similar data; nodes are placed on the graph next to other similar nodes. \n",
    "* Clusters at one level are joined with clusters in the next level up, using a degree of similarity.\n",
    "* The process carries on until all nodes are in the tree, which gives a visual snapshot of the data contained in the whole set. \n",
    "* The total number of clusters is not predetermined before you start the tree creation."
   ]
  },
  {
   "cell_type": "markdown",
   "metadata": {
    "id": "GUkITqtYUZhC"
   },
   "source": [
    "![clustergram](https://labcontent.simplicdn.net/data-content/content-assets/Data_and_AI/Applied_Machine_Learning/Images/0.9_Unsupervised_Learning/Trainer_PPT_and_IPYNB/0.3_Hierarchical_Clustering/clustergram.png)"
   ]
  },
  {
   "cell_type": "markdown",
   "metadata": {
    "id": "FHKNmIJLUvW-"
   },
   "source": [
    "## <b> Implementing Hierarchical Clustering </b>\n",
    "\n",
    "\n",
    "There are two major ways in which hierarchical clustering can be carried out:\n",
    "\n",
    "1. Agglomerative or Bottom-Up Clustering\n",
    "2. Divisive or Top-Down Clustering"
   ]
  },
  {
   "cell_type": "markdown",
   "metadata": {
    "id": "xhyhEjwkH8pl"
   },
   "source": [
    "### <b> Agglomerative (Bottom-Up) Clustering </b>\n",
    "\n",
    "1. Start with each example in its own singleton cluster\n",
    "2. At each time-step, greedily merge two most similar clusters\n",
    "3. Stop when there is a single cluster of all examples, else go to two"
   ]
  },
  {
   "cell_type": "markdown",
   "metadata": {
    "id": "qP1VqVoCHlTr"
   },
   "source": [
    "### <b> Divisive (Top-Down) Clustering </b>\n",
    "\n",
    "\n",
    "1. Start with all examples in the same cluster\n",
    "2. At each time-step, remove the “outsiders” from the least cohesive cluster\n",
    "3. Stop when each example is in its own singleton cluster, else go to two"
   ]
  },
  {
   "cell_type": "markdown",
   "metadata": {
    "id": "lgvSkwfOHvhB"
   },
   "source": [
    "### <b> Which One to Use? </b>\n",
    "\n",
    "* Agglomerative Clustering is simpler than the divisive clustering to implement because for the latter, we need a second, flat clustering algorithm as a `subroutine`. \n",
    "* However, top-down routine has the advantage of being more efficient if we do not generate a complete hierarchy all the way down to individual document leaves. \n",
    "* For a fixed number of top levels, using an efficient flat algorithm like  $K$-means. Top-down algorithms are linear in the number of documents and clusters.\n",
    "* There is also evidence that divisive algorithms produce more accurate hierarchies than bottom-up algorithms. In some circumstances according to the [Stanford University Review](https://nlp.stanford.edu/IR-book/html/htmledition/references-and-further-reading-17.html#sec:hclstfurther). "
   ]
  },
  {
   "cell_type": "markdown",
   "metadata": {
    "id": "fK1lfrXfIOvs"
   },
   "source": [
    "### <b> Deciding (Dis)similarity between Clusters </b>\n",
    "\n",
    "In both techniques, we discussed finding the similarity or dissmilarity between the two clusters. The question is, \"How to measure them?\"\n",
    "\n",
    "\n",
    "Before any clustering is performed, it is required that you determine the **proximity matrix containing the distance between each point using a distance function**. \n",
    "Then, the matrix is updated to display the distance between each cluster. \n",
    "The following three methods differ in how the distance between each cluster is measured."
   ]
  },
  {
   "cell_type": "markdown",
   "metadata": {
    "id": "P9wdKENK5f3q"
   },
   "source": [
    "### <b> Dendrograms </b>\n",
    "\n",
    "We can use a dendrogram to visualize the history of groupings and figure out the optimal number of clusters.\n",
    " - Determine the largest vertical distance that doesn’t intersect any of the other clusters\n",
    " - Draw a horizontal line at both extremities\n",
    " - The optimal number of clusters is equal to the number of vertical lines going through the horizontal line\n",
    "\n",
    "For example, in the below case, best choice for no. of clusters will be 4."
   ]
  },
  {
   "cell_type": "markdown",
   "metadata": {
    "id": "JiwGcdSt6k2K"
   },
   "source": [
    "![image_1](https://labcontent.simplicdn.net/data-content/content-assets/Data_and_AI/Applied_Machine_Learning/Images/0.9_Unsupervised_Learning/Trainer_PPT_and_IPYNB/0.3_Hierarchical_Clustering/image_1.JPG)\n"
   ]
  },
  {
   "cell_type": "markdown",
   "metadata": {
    "id": "sQINoDiQ58q9"
   },
   "source": [
    "## <b> Linkage Criteria </b>"
   ]
  },
  {
   "cell_type": "markdown",
   "metadata": {
    "id": "g-oDXXnfIUVA"
   },
   "source": [
    "### <b> Single Linkage </b>\n",
    "\n",
    "In single linkage hierarchical clustering, the distance between two clusters is defined as the shortest distance between two points in each cluster. For example, the distance between clusters “r” and “s” to the left is equal to the length of the arrow between their two closest points."
   ]
  },
  {
   "cell_type": "markdown",
   "metadata": {
    "id": "j-xJqtKR1Eod"
   },
   "source": [
    "![image05](https://labcontent.simplicdn.net/data-content/content-assets/Data_and_AI/Applied_Machine_Learning/Images/0.9_Unsupervised_Learning/Trainer_PPT_and_IPYNB/0.3_Hierarchical_Clustering/image05.png)\n"
   ]
  },
  {
   "cell_type": "markdown",
   "metadata": {
    "id": "-KTiDcyPIf42"
   },
   "source": [
    "### <b> Complete Linkage </b>\n",
    "\n",
    "In complete linkage hierarchical clustering, the distance between two clusters is defined as the longest distance between two points in each cluster. For example, the distance between clusters “r” and “s” to the left is equal to the length of the arrow between their two furthest points."
   ]
  },
  {
   "cell_type": "markdown",
   "metadata": {
    "id": "_Fv-hxYK1ImV"
   },
   "source": [
    "![image06](https://labcontent.simplicdn.net/data-content/content-assets/Data_and_AI/Applied_Machine_Learning/Images/0.9_Unsupervised_Learning/Trainer_PPT_and_IPYNB/0.3_Hierarchical_Clustering/image06.png)\n"
   ]
  },
  {
   "cell_type": "markdown",
   "metadata": {
    "id": "onsIeIGlInG7"
   },
   "source": [
    "### <b> Average Linkage </b>\n",
    "\n",
    "In average linkage hierarchical clustering, the distance between two clusters is defined as the average distance between each point in one cluster to every point in the other cluster. For example, the distance between clusters “r” and “s” to the left is equal to the average length of each arrow between connecting the points of one cluster to the other.\n"
   ]
  },
  {
   "cell_type": "markdown",
   "metadata": {
    "id": "bFEz3ZyO1Ki9"
   },
   "source": [
    "![image07](https://labcontent.simplicdn.net/data-content/content-assets/Data_and_AI/Applied_Machine_Learning/Images/0.9_Unsupervised_Learning/Trainer_PPT_and_IPYNB/0.3_Hierarchical_Clustering/image07.png)"
   ]
  },
  {
   "cell_type": "markdown",
   "metadata": {
    "id": "g7ESvhz99Fq2"
   },
   "source": [
    "### <b> Ward Linkage </b>\n",
    "In ward linkage hierarchical clustering, the distance between clusters is the sum of squared differences within all clusters.\n"
   ]
  },
  {
   "cell_type": "markdown",
   "metadata": {
    "id": "i7TVoTneJ78u"
   },
   "source": [
    "### <b> Single vs. Complete vs. Average Linkage: </b>\n",
    "\n",
    "* Single\n",
    "linkage sometimes produces chaining amongst the clusters. This means that several clusters may be joined together simply because one of their\n",
    "cases is within close proximity of the case from a separate\n",
    "cluster. This problem is specific to single linkage due to\n",
    "the fact that the smallest distance between pairs is the\n",
    "only value taken into consideration.\n",
    "* In\n",
    "complete linkage, outlying cases prevent close clusters\n",
    "to merge together because the measure of the furthest\n",
    "neighbor exacerbates the effects of outlying data.\n",
    "* Average linkage is supposed to represent a\n",
    "natural compromise between the linkage measures to\n",
    "provide a more accurate evaluation of the distance\n",
    "between the clusters. "
   ]
  },
  {
   "cell_type": "markdown",
   "metadata": {
    "id": "pjMZKbm38Y8g"
   },
   "source": [
    "## <b> Distance Metric </b>\n",
    "The method you use to calculate the distance between data points will affect the end result.\n",
    "### <b>Euclidean Distance </b>\n",
    "The shortest distance between two points. <br> \n",
    "For example, \n",
    "if x=(a,b) and y=(c,d), <br>\n",
    "the Euclidean distance between x and y is √(a−c)²+(b−d)²\n",
    "### <b> Manhattan Distance </b>\n",
    "Imagine you were in the downtown center of a big city and you wanted to get from point A to point B. You wouldn’t be able to cut across buildings, rather you’d have to make your way by walking along the various streets. <br>\n",
    "For example, if x=(a,b) and y=(c,d), <br> \n",
    "the Manhattan distance between x and y is |a−c|+|b−d|"
   ]
  },
  {
   "cell_type": "markdown",
   "metadata": {
    "id": "bE7ySio-KKIs"
   },
   "source": [
    "## <b> Shortcomings </b>\n",
    "\n",
    "One of the biggest drawbacks of hierarchical clustering is it is extremely calculation heavy. Therefore, they are not scalable. That also means that they are not very useful for larger datasets."
   ]
  },
  {
   "cell_type": "markdown",
   "metadata": {
    "id": "sSKFQ8vPz96R"
   },
   "source": [
    "`Scipy` has a really convenient api for carrying out hierarchical clustering. Let's see how it works. We will start with necessary imports:"
   ]
  },
  {
   "cell_type": "markdown",
   "metadata": {
    "id": "zVrlcRzMZGjf"
   },
   "source": [
    "### Import Libraries"
   ]
  },
  {
   "cell_type": "code",
   "execution_count": 1,
   "metadata": {
    "id": "2dxRQp79cxa0"
   },
   "outputs": [],
   "source": [
    "import pandas as pd, numpy as np\n",
    "from sklearn.cluster import KMeans\n",
    "from sklearn.datasets import load_iris"
   ]
  },
  {
   "cell_type": "markdown",
   "metadata": {
    "id": "SyhPlzM_ZGjg"
   },
   "source": [
    "In the above code, we are using the sklearn library, which contains a lot of tools for machine learning and statistical modeling, including classification, regression, clustering, and dimensionality reduction.\n"
   ]
  },
  {
   "cell_type": "code",
   "execution_count": 2,
   "metadata": {
    "id": "UDOH73u_c0KI"
   },
   "outputs": [],
   "source": [
    "iris = load_iris()"
   ]
  },
  {
   "cell_type": "markdown",
   "metadata": {
    "id": "9GV9uelYZGjh"
   },
   "source": [
    "Load_iris is a function from sklearn that loads and returns the iris dataset. The libraries used above already contains it. Just by loading the library, a data frame named \"iris\" will be made available and can be used straight away."
   ]
  },
  {
   "cell_type": "code",
   "execution_count": 3,
   "metadata": {
    "id": "ORrHsxS3c810"
   },
   "outputs": [],
   "source": [
    "X = iris.data\n",
    "y = iris.target"
   ]
  },
  {
   "cell_type": "code",
   "execution_count": 4,
   "metadata": {
    "id": "y98KjZ5RcgDR"
   },
   "outputs": [],
   "source": [
    "#Import dendrogram and linkage module from scipy library\n",
    "from scipy.cluster.hierarchy import dendrogram, linkage"
   ]
  },
  {
   "cell_type": "code",
   "execution_count": 5,
   "metadata": {
    "id": "TMm-LBwscgrM"
   },
   "outputs": [],
   "source": [
    "#Generate the linkage matrix\n",
    "Z = linkage(X, 'average')"
   ]
  },
  {
   "cell_type": "code",
   "execution_count": 6,
   "metadata": {
    "id": "nEr0yqxMck0p"
   },
   "outputs": [
    {
     "data": {
      "image/png": "[encoded data removed]",
      "text/plain": [
       "<Figure size 1800x720 with 1 Axes>"
      ]
     },
     "metadata": {
      "needs_background": "light"
     },
     "output_type": "display_data"
    }
   ],
   "source": [
    "#Calculate full dendrogram\n",
    "import matplotlib.pyplot as plt\n",
    "\n",
    "plt.figure(figsize=(25, 10))\n",
    "plt.title('Hierarchical Clustering Dendrogram')\n",
    "plt.xlabel('sample index')\n",
    "plt.ylabel('distance')\n",
    "dendrogram(\n",
    "    Z,\n",
    "    leaf_rotation=90.,  #Rotates the x axis labels\n",
    "    leaf_font_size=8.,  #Font size for the x axis labels\n",
    ")\n",
    "plt.show()"
   ]
  },
  {
   "cell_type": "markdown",
   "metadata": {
    "id": "mfzPoRnE2SH6"
   },
   "source": [
    "Now we are going to see the concept of Agglomerative (Bottom-Up) Clustering with a business use case."
   ]
  },
  {
   "cell_type": "markdown",
   "metadata": {
    "id": "bkWrWGps2dqM"
   },
   "source": [
    "### <b> Problem Statement: </b>\n",
    "An ecommerce company has prepared a rough dataset containing shopping details of their customers, which includes CustomerID, Genre, Age, Annual Income (k$), Spending Score (1-100). The company is unable to target a specific set of customers with a particular set of SKUs.\n",
    " \n",
    "### <b> Objective:</b>\n",
    "\n",
    " Segment customers into different groups based on their shopping trends."
   ]
  },
  {
   "cell_type": "markdown",
   "metadata": {
    "id": "akkrEKfSzH9m"
   },
   "source": [
    "### **Dataset**\n",
    "\n",
    "Before reading the data from a .csv file, you need to download \"housing_data.csv\" dataset from the course resource and upload it into the lab.\n",
    "We must use the Up arrow icon, which is shown in the left side under View icon. Click on the Up arrow icon and upload the file\n",
    "wherever it is downloaded into your system.\n"
   ]
  },
  {
   "cell_type": "code",
   "execution_count": 7,
   "metadata": {
    "id": "HVLDwO7c2dDX"
   },
   "outputs": [],
   "source": [
    "import matplotlib.pyplot as plt\n",
    "import pandas as pd\n",
    "%matplotlib inline\n",
    "import numpy as np"
   ]
  },
  {
   "cell_type": "code",
   "execution_count": 8,
   "metadata": {
    "id": "Ry7u3oVP3J-p"
   },
   "outputs": [
    {
     "ename": "FileNotFoundError",
     "evalue": "[Errno 2] No such file or directory: 'shopping_data.csv'",
     "output_type": "error",
     "traceback": [
      "\u001b[0;31m---------------------------------------------------------------------------\u001b[0m",
      "\u001b[0;31mFileNotFoundError\u001b[0m                         Traceback (most recent call last)",
      "\u001b[0;32m/var/folders/mw/79vr7p9566z6fwqnpsmrj8tc0000gq/T/ipykernel_20337/3319268879.py\u001b[0m in \u001b[0;36m<module>\u001b[0;34m\u001b[0m\n\u001b[0;32m----> 1\u001b[0;31m \u001b[0mcustomer_data\u001b[0m \u001b[0;34m=\u001b[0m \u001b[0mpd\u001b[0m\u001b[0;34m.\u001b[0m\u001b[0mread_csv\u001b[0m\u001b[0;34m(\u001b[0m\u001b[0;34m'shopping_data.csv'\u001b[0m\u001b[0;34m)\u001b[0m\u001b[0;34m\u001b[0m\u001b[0;34m\u001b[0m\u001b[0m\n\u001b[0m",
      "\u001b[0;32m~/opt/anaconda3/lib/python3.9/site-packages/pandas/util/_decorators.py\u001b[0m in \u001b[0;36mwrapper\u001b[0;34m(*args, **kwargs)\u001b[0m\n\u001b[1;32m    309\u001b[0m                     \u001b[0mstacklevel\u001b[0m\u001b[0;34m=\u001b[0m\u001b[0mstacklevel\u001b[0m\u001b[0;34m,\u001b[0m\u001b[0;34m\u001b[0m\u001b[0;34m\u001b[0m\u001b[0m\n\u001b[1;32m    310\u001b[0m                 )\n\u001b[0;32m--> 311\u001b[0;31m             \u001b[0;32mreturn\u001b[0m \u001b[0mfunc\u001b[0m\u001b[0;34m(\u001b[0m\u001b[0;34m*\u001b[0m\u001b[0margs\u001b[0m\u001b[0;34m,\u001b[0m \u001b[0;34m**\u001b[0m\u001b[0mkwargs\u001b[0m\u001b[0;34m)\u001b[0m\u001b[0;34m\u001b[0m\u001b[0;34m\u001b[0m\u001b[0m\n\u001b[0m\u001b[1;32m    312\u001b[0m \u001b[0;34m\u001b[0m\u001b[0m\n\u001b[1;32m    313\u001b[0m         \u001b[0;32mreturn\u001b[0m \u001b[0mwrapper\u001b[0m\u001b[0;34m\u001b[0m\u001b[0;34m\u001b[0m\u001b[0m\n",
      "\u001b[0;32m~/opt/anaconda3/lib/python3.9/site-packages/pandas/io/parsers/readers.py\u001b[0m in \u001b[0;36mread_csv\u001b[0;34m(filepath_or_buffer, sep, delimiter, header, names, index_col, usecols, squeeze, prefix, mangle_dupe_cols, dtype, engine, converters, true_values, false_values, skipinitialspace, skiprows, skipfooter, nrows, na_values, keep_default_na, na_filter, verbose, skip_blank_lines, parse_dates, infer_datetime_format, keep_date_col, date_parser, dayfirst, cache_dates, iterator, chunksize, compression, thousands, decimal, lineterminator, quotechar, quoting, doublequote, escapechar, comment, encoding, encoding_errors, dialect, error_bad_lines, warn_bad_lines, on_bad_lines, delim_whitespace, low_memory, memory_map, float_precision, storage_options)\u001b[0m\n\u001b[1;32m    584\u001b[0m     \u001b[0mkwds\u001b[0m\u001b[0;34m.\u001b[0m\u001b[0mupdate\u001b[0m\u001b[0;34m(\u001b[0m\u001b[0mkwds_defaults\u001b[0m\u001b[0;34m)\u001b[0m\u001b[0;34m\u001b[0m\u001b[0;34m\u001b[0m\u001b[0m\n\u001b[1;32m    585\u001b[0m \u001b[0;34m\u001b[0m\u001b[0m\n\u001b[0;32m--> 586\u001b[0;31m     \u001b[0;32mreturn\u001b[0m \u001b[0m_read\u001b[0m\u001b[0;34m(\u001b[0m\u001b[0mfilepath_or_buffer\u001b[0m\u001b[0;34m,\u001b[0m \u001b[0mkwds\u001b[0m\u001b[0;34m)\u001b[0m\u001b[0;34m\u001b[0m\u001b[0;34m\u001b[0m\u001b[0m\n\u001b[0m\u001b[1;32m    587\u001b[0m \u001b[0;34m\u001b[0m\u001b[0m\n\u001b[1;32m    588\u001b[0m \u001b[0;34m\u001b[0m\u001b[0m\n",
      "\u001b[0;32m~/opt/anaconda3/lib/python3.9/site-packages/pandas/io/parsers/readers.py\u001b[0m in \u001b[0;36m_read\u001b[0;34m(filepath_or_buffer, kwds)\u001b[0m\n\u001b[1;32m    480\u001b[0m \u001b[0;34m\u001b[0m\u001b[0m\n\u001b[1;32m    481\u001b[0m     \u001b[0;31m# Create the parser.\u001b[0m\u001b[0;34m\u001b[0m\u001b[0;34m\u001b[0m\u001b[0m\n\u001b[0;32m--> 482\u001b[0;31m     \u001b[0mparser\u001b[0m \u001b[0;34m=\u001b[0m \u001b[0mTextFileReader\u001b[0m\u001b[0;34m(\u001b[0m\u001b[0mfilepath_or_buffer\u001b[0m\u001b[0;34m,\u001b[0m \u001b[0;34m**\u001b[0m\u001b[0mkwds\u001b[0m\u001b[0;34m)\u001b[0m\u001b[0;34m\u001b[0m\u001b[0;34m\u001b[0m\u001b[0m\n\u001b[0m\u001b[1;32m    483\u001b[0m \u001b[0;34m\u001b[0m\u001b[0m\n\u001b[1;32m    484\u001b[0m     \u001b[0;32mif\u001b[0m \u001b[0mchunksize\u001b[0m \u001b[0;32mor\u001b[0m \u001b[0miterator\u001b[0m\u001b[0;34m:\u001b[0m\u001b[0;34m\u001b[0m\u001b[0;34m\u001b[0m\u001b[0m\n",
      "\u001b[0;32m~/opt/anaconda3/lib/python3.9/site-packages/pandas/io/parsers/readers.py\u001b[0m in \u001b[0;36m__init__\u001b[0;34m(self, f, engine, **kwds)\u001b[0m\n\u001b[1;32m    809\u001b[0m             \u001b[0mself\u001b[0m\u001b[0;34m.\u001b[0m\u001b[0moptions\u001b[0m\u001b[0;34m[\u001b[0m\u001b[0;34m\"has_index_names\"\u001b[0m\u001b[0;34m]\u001b[0m \u001b[0;34m=\u001b[0m \u001b[0mkwds\u001b[0m\u001b[0;34m[\u001b[0m\u001b[0;34m\"has_index_names\"\u001b[0m\u001b[0;34m]\u001b[0m\u001b[0;34m\u001b[0m\u001b[0;34m\u001b[0m\u001b[0m\n\u001b[1;32m    810\u001b[0m \u001b[0;34m\u001b[0m\u001b[0m\n\u001b[0;32m--> 811\u001b[0;31m         \u001b[0mself\u001b[0m\u001b[0;34m.\u001b[0m\u001b[0m_engine\u001b[0m \u001b[0;34m=\u001b[0m \u001b[0mself\u001b[0m\u001b[0;34m.\u001b[0m\u001b[0m_make_engine\u001b[0m\u001b[0;34m(\u001b[0m\u001b[0mself\u001b[0m\u001b[0;34m.\u001b[0m\u001b[0mengine\u001b[0m\u001b[0;34m)\u001b[0m\u001b[0;34m\u001b[0m\u001b[0;34m\u001b[0m\u001b[0m\n\u001b[0m\u001b[1;32m    812\u001b[0m \u001b[0;34m\u001b[0m\u001b[0m\n\u001b[1;32m    813\u001b[0m     \u001b[0;32mdef\u001b[0m \u001b[0mclose\u001b[0m\u001b[0;34m(\u001b[0m\u001b[0mself\u001b[0m\u001b[0;34m)\u001b[0m\u001b[0;34m:\u001b[0m\u001b[0;34m\u001b[0m\u001b[0;34m\u001b[0m\u001b[0m\n",
      "\u001b[0;32m~/opt/anaconda3/lib/python3.9/site-packages/pandas/io/parsers/readers.py\u001b[0m in \u001b[0;36m_make_engine\u001b[0;34m(self, engine)\u001b[0m\n\u001b[1;32m   1038\u001b[0m             )\n\u001b[1;32m   1039\u001b[0m         \u001b[0;31m# error: Too many arguments for \"ParserBase\"\u001b[0m\u001b[0;34m\u001b[0m\u001b[0;34m\u001b[0m\u001b[0m\n\u001b[0;32m-> 1040\u001b[0;31m         \u001b[0;32mreturn\u001b[0m \u001b[0mmapping\u001b[0m\u001b[0;34m[\u001b[0m\u001b[0mengine\u001b[0m\u001b[0;34m]\u001b[0m\u001b[0;34m(\u001b[0m\u001b[0mself\u001b[0m\u001b[0;34m.\u001b[0m\u001b[0mf\u001b[0m\u001b[0;34m,\u001b[0m \u001b[0;34m**\u001b[0m\u001b[0mself\u001b[0m\u001b[0;34m.\u001b[0m\u001b[0moptions\u001b[0m\u001b[0;34m)\u001b[0m  \u001b[0;31m# type: ignore[call-arg]\u001b[0m\u001b[0;34m\u001b[0m\u001b[0;34m\u001b[0m\u001b[0m\n\u001b[0m\u001b[1;32m   1041\u001b[0m \u001b[0;34m\u001b[0m\u001b[0m\n\u001b[1;32m   1042\u001b[0m     \u001b[0;32mdef\u001b[0m \u001b[0m_failover_to_python\u001b[0m\u001b[0;34m(\u001b[0m\u001b[0mself\u001b[0m\u001b[0;34m)\u001b[0m\u001b[0;34m:\u001b[0m\u001b[0;34m\u001b[0m\u001b[0;34m\u001b[0m\u001b[0m\n",
      "\u001b[0;32m~/opt/anaconda3/lib/python3.9/site-packages/pandas/io/parsers/c_parser_wrapper.py\u001b[0m in \u001b[0;36m__init__\u001b[0;34m(self, src, **kwds)\u001b[0m\n\u001b[1;32m     49\u001b[0m \u001b[0;34m\u001b[0m\u001b[0m\n\u001b[1;32m     50\u001b[0m         \u001b[0;31m# open handles\u001b[0m\u001b[0;34m\u001b[0m\u001b[0;34m\u001b[0m\u001b[0m\n\u001b[0;32m---> 51\u001b[0;31m         \u001b[0mself\u001b[0m\u001b[0;34m.\u001b[0m\u001b[0m_open_handles\u001b[0m\u001b[0;34m(\u001b[0m\u001b[0msrc\u001b[0m\u001b[0;34m,\u001b[0m \u001b[0mkwds\u001b[0m\u001b[0;34m)\u001b[0m\u001b[0;34m\u001b[0m\u001b[0;34m\u001b[0m\u001b[0m\n\u001b[0m\u001b[1;32m     52\u001b[0m         \u001b[0;32massert\u001b[0m \u001b[0mself\u001b[0m\u001b[0;34m.\u001b[0m\u001b[0mhandles\u001b[0m \u001b[0;32mis\u001b[0m \u001b[0;32mnot\u001b[0m \u001b[0;32mNone\u001b[0m\u001b[0;34m\u001b[0m\u001b[0;34m\u001b[0m\u001b[0m\n\u001b[1;32m     53\u001b[0m \u001b[0;34m\u001b[0m\u001b[0m\n",
      "\u001b[0;32m~/opt/anaconda3/lib/python3.9/site-packages/pandas/io/parsers/base_parser.py\u001b[0m in \u001b[0;36m_open_handles\u001b[0;34m(self, src, kwds)\u001b[0m\n\u001b[1;32m    220\u001b[0m         \u001b[0mLet\u001b[0m \u001b[0mthe\u001b[0m \u001b[0mreaders\u001b[0m \u001b[0mopen\u001b[0m \u001b[0mIOHandles\u001b[0m \u001b[0mafter\u001b[0m \u001b[0mthey\u001b[0m \u001b[0mare\u001b[0m \u001b[0mdone\u001b[0m \u001b[0;32mwith\u001b[0m \u001b[0mtheir\u001b[0m \u001b[0mpotential\u001b[0m \u001b[0mraises\u001b[0m\u001b[0;34m.\u001b[0m\u001b[0;34m\u001b[0m\u001b[0;34m\u001b[0m\u001b[0m\n\u001b[1;32m    221\u001b[0m         \"\"\"\n\u001b[0;32m--> 222\u001b[0;31m         self.handles = get_handle(\n\u001b[0m\u001b[1;32m    223\u001b[0m             \u001b[0msrc\u001b[0m\u001b[0;34m,\u001b[0m\u001b[0;34m\u001b[0m\u001b[0;34m\u001b[0m\u001b[0m\n\u001b[1;32m    224\u001b[0m             \u001b[0;34m\"r\"\u001b[0m\u001b[0;34m,\u001b[0m\u001b[0;34m\u001b[0m\u001b[0;34m\u001b[0m\u001b[0m\n",
      "\u001b[0;32m~/opt/anaconda3/lib/python3.9/site-packages/pandas/io/common.py\u001b[0m in \u001b[0;36mget_handle\u001b[0;34m(path_or_buf, mode, encoding, compression, memory_map, is_text, errors, storage_options)\u001b[0m\n\u001b[1;32m    700\u001b[0m         \u001b[0;32mif\u001b[0m \u001b[0mioargs\u001b[0m\u001b[0;34m.\u001b[0m\u001b[0mencoding\u001b[0m \u001b[0;32mand\u001b[0m \u001b[0;34m\"b\"\u001b[0m \u001b[0;32mnot\u001b[0m \u001b[0;32min\u001b[0m \u001b[0mioargs\u001b[0m\u001b[0;34m.\u001b[0m\u001b[0mmode\u001b[0m\u001b[0;34m:\u001b[0m\u001b[0;34m\u001b[0m\u001b[0;34m\u001b[0m\u001b[0m\n\u001b[1;32m    701\u001b[0m             \u001b[0;31m# Encoding\u001b[0m\u001b[0;34m\u001b[0m\u001b[0;34m\u001b[0m\u001b[0m\n\u001b[0;32m--> 702\u001b[0;31m             handle = open(\n\u001b[0m\u001b[1;32m    703\u001b[0m                 \u001b[0mhandle\u001b[0m\u001b[0;34m,\u001b[0m\u001b[0;34m\u001b[0m\u001b[0;34m\u001b[0m\u001b[0m\n\u001b[1;32m    704\u001b[0m                 \u001b[0mioargs\u001b[0m\u001b[0;34m.\u001b[0m\u001b[0mmode\u001b[0m\u001b[0;34m,\u001b[0m\u001b[0;34m\u001b[0m\u001b[0;34m\u001b[0m\u001b[0m\n",
      "\u001b[0;31mFileNotFoundError\u001b[0m: [Errno 2] No such file or directory: 'shopping_data.csv'"
     ]
    }
   ],
   "source": [
    "customer_data = pd.read_csv('shopping_data.csv')"
   ]
  },
  {
   "cell_type": "markdown",
   "metadata": {
    "id": "oeR6Tt9SZGjj"
   },
   "source": [
    "In the above code, pd.read_csv function is used to read the \"shopping_data.csv\" file, and customer_data is a variable that will store the data read by the .csv file."
   ]
  },
  {
   "cell_type": "code",
   "execution_count": null,
   "metadata": {
    "id": "7DsbF1H_3g0x"
   },
   "outputs": [],
   "source": [
    "customer_data.shape\n"
   ]
  },
  {
   "cell_type": "markdown",
   "metadata": {
    "id": "_iVH0XW6ZGjk"
   },
   "source": [
    "Here, shape is an attribute that returns a tuple representing the dimensionality of the customer_data. It is used to define the number of rows and columns in customer_data. "
   ]
  },
  {
   "cell_type": "code",
   "execution_count": null,
   "metadata": {
    "id": "wLXaJQRt3jgw"
   },
   "outputs": [],
   "source": [
    "customer_data.head()\n"
   ]
  },
  {
   "cell_type": "markdown",
   "metadata": {
    "id": "73fHlQwZ3x2x"
   },
   "source": [
    "Our dataset has five columns: CustomerID, Genre, Age, Annual Income, and Spending Score. To view the results in two-dimensional feature space, we will retain only two of these five columns. We can remove CustomerID column, Genre, and Age column. We will retain the Annual Income (in thousands of dollars) and Spending Score (1-100) columns. The Spending Score column signifies how often a person spends money in a mall on a scale of 1 to 100 with 100 being the highest spender. Execute the following script to filter the first three columns from our dataset:"
   ]
  },
  {
   "cell_type": "code",
   "execution_count": null,
   "metadata": {
    "id": "90Xh7rKd3mA6"
   },
   "outputs": [],
   "source": [
    "data = customer_data.iloc[:, 3:5].values"
   ]
  },
  {
   "cell_type": "markdown",
   "metadata": {
    "id": "8Ew7qiwI33Vb"
   },
   "source": [
    "Next, we need to know the clusters that we want our data to be split to. We will again use the scipy library to create the dendrograms for our dataset. Execute the following script to do so:"
   ]
  },
  {
   "cell_type": "code",
   "execution_count": null,
   "metadata": {
    "id": "e5K9mwat3om5"
   },
   "outputs": [],
   "source": [
    "import scipy.cluster.hierarchy as shc\n",
    "\n",
    "plt.figure(figsize=(25, 10))\n",
    "plt.title(\"Customer Dendograms\")\n",
    "dend = shc.dendrogram(shc.linkage(data, method='ward'))"
   ]
  },
  {
   "cell_type": "markdown",
   "metadata": {
    "id": "LoSDdw9R69jk"
   },
   "source": [
    "If we draw a horizontal line that passes through longest distance without a horizontal line, we get 5 clusters."
   ]
  },
  {
   "cell_type": "markdown",
   "metadata": {
    "id": "FoMmAWFV4iWp"
   },
   "source": [
    "We create an instance of Agglomerative Clustering using the euclidean distance as the measure of distance between points and ward linkage to calculate the proximity of clusters."
   ]
  },
  {
   "cell_type": "code",
   "execution_count": null,
   "metadata": {
    "id": "d_33vFwJ4nC8"
   },
   "outputs": [],
   "source": [
    "from sklearn.cluster import AgglomerativeClustering\n",
    "\n",
    "cluster = AgglomerativeClustering(n_clusters=5, affinity='euclidean', linkage='ward')\n",
    "cluster.fit_predict(data)"
   ]
  },
  {
   "cell_type": "markdown",
   "metadata": {
    "id": "pCxtwDEp4q5h"
   },
   "source": [
    "You can see the cluster labels from all of your data points. Since we had five clusters, we have five labels in the output i.e. 0 to 4."
   ]
  },
  {
   "cell_type": "markdown",
   "metadata": {
    "id": "dyn2JWLp4uSW"
   },
   "source": [
    "As a final step, let's plot the clusters to see how actually our data has been clustered:"
   ]
  },
  {
   "cell_type": "code",
   "execution_count": null,
   "metadata": {
    "id": "R2Kjc8PH4nZw"
   },
   "outputs": [],
   "source": [
    "plt.figure(figsize=(10, 7))\n",
    "plt.scatter(data[:,0], data[:,1], c=cluster.labels_, cmap='rainbow')"
   ]
  },
  {
   "cell_type": "markdown",
   "metadata": {
    "id": "Ougs4hrsUSzv"
   },
   "source": [
    "### **Conclusion**\n",
    "When the shopping data is grouped using the agglomerative clustering technique, we can observe that there are five groups for consumers whose labels range from 0 to 4."
   ]
  },
  {
   "cell_type": "markdown",
   "metadata": {
    "id": "9BVrKLeickQN"
   },
   "source": [
    "**Note: In this lesson, we saw the use of the unservised learning methods, but in the next lesson we will be working on \"Time-Series Modelling\".**"
   ]
  },
  {
   "cell_type": "markdown",
   "metadata": {
    "id": "WH49_luCpp4k"
   },
   "source": [
    "![Simplilearn_Logo](https://labcontent.simplicdn.net/data-content/content-assets/Data_and_AI/Logo_Powered_By_Simplilearn/SL_Logo_1.png)"
   ]
  }
 ],
 "metadata": {
  "colab": {
   "collapsed_sections": [],
   "name": "5.03_Hierarchical_Clustering.ipynb",
   "private_outputs": true,
   "provenance": []
  },
  "kernelspec": {
   "display_name": "Python 3 (ipykernel)",
   "language": "python",
   "name": "python3"
  },
  "language_info": {
   "codemirror_mode": {
    "name": "ipython",
    "version": 3
   },
   "file_extension": ".py",
   "mimetype": "text/x-python",
   "name": "python",
   "nbconvert_exporter": "python",
   "pygments_lexer": "ipython3",
   "version": "3.9.7"
  }
 },
 "nbformat": 4,
 "nbformat_minor": 1
}
