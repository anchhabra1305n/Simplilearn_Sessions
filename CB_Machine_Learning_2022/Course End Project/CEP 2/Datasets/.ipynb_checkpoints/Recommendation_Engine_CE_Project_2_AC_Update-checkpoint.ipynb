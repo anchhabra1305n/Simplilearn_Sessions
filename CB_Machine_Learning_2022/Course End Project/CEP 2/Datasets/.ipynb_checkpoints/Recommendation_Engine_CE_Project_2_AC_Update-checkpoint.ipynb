{
 "cells": [
  {
   "cell_type": "code",
   "execution_count": 1,
   "id": "4509fd5e",
   "metadata": {},
   "outputs": [],
   "source": [
    "import os, io\n",
    "import numpy as np\n",
    "import pandas as pd\n",
    "from sklearn.metrics import mean_squared_error\n",
    "import matplotlib.pyplot as plt\n",
    "import seaborn as sns\n",
    "%matplotlib inline\n",
    "import warnings\n",
    "warnings.filterwarnings('ignore')"
   ]
  },
  {
   "cell_type": "markdown",
   "id": "fc863897",
   "metadata": {},
   "source": [
    "# Read the books dataset and explore it"
   ]
  },
  {
   "cell_type": "code",
   "execution_count": 11,
   "id": "63fac033",
   "metadata": {},
   "outputs": [
    {
     "data": {
      "text/html": [
       "<div>\n",
       "<style scoped>\n",
       "    .dataframe tbody tr th:only-of-type {\n",
       "        vertical-align: middle;\n",
       "    }\n",
       "\n",
       "    .dataframe tbody tr th {\n",
       "        vertical-align: top;\n",
       "    }\n",
       "\n",
       "    .dataframe thead th {\n",
       "        text-align: right;\n",
       "    }\n",
       "</style>\n",
       "<table border=\"1\" class=\"dataframe\">\n",
       "  <thead>\n",
       "    <tr style=\"text-align: right;\">\n",
       "      <th></th>\n",
       "      <th>isbn</th>\n",
       "      <th>book_title</th>\n",
       "      <th>book_author</th>\n",
       "      <th>year_of_publication</th>\n",
       "      <th>publisher</th>\n",
       "    </tr>\n",
       "  </thead>\n",
       "  <tbody>\n",
       "    <tr>\n",
       "      <th>0</th>\n",
       "      <td>195153448</td>\n",
       "      <td>Classical Mythology</td>\n",
       "      <td>Mark P. O. Morford</td>\n",
       "      <td>2002</td>\n",
       "      <td>Oxford University Press</td>\n",
       "    </tr>\n",
       "    <tr>\n",
       "      <th>1</th>\n",
       "      <td>2005018</td>\n",
       "      <td>Clara Callan</td>\n",
       "      <td>Richard Bruce Wright</td>\n",
       "      <td>2001</td>\n",
       "      <td>HarperFlamingo Canada</td>\n",
       "    </tr>\n",
       "    <tr>\n",
       "      <th>2</th>\n",
       "      <td>60973129</td>\n",
       "      <td>Decision in Normandy</td>\n",
       "      <td>Carlo D'Este</td>\n",
       "      <td>1991</td>\n",
       "      <td>HarperPerennial</td>\n",
       "    </tr>\n",
       "    <tr>\n",
       "      <th>3</th>\n",
       "      <td>374157065</td>\n",
       "      <td>Flu: The Story of the Great Influenza Pandemic...</td>\n",
       "      <td>Gina Bari Kolata</td>\n",
       "      <td>1999</td>\n",
       "      <td>Farrar Straus Giroux</td>\n",
       "    </tr>\n",
       "    <tr>\n",
       "      <th>4</th>\n",
       "      <td>393045218</td>\n",
       "      <td>The Mummies of Urumchi</td>\n",
       "      <td>E. J. W. Barber</td>\n",
       "      <td>1999</td>\n",
       "      <td>W. W. Norton &amp;amp; Company</td>\n",
       "    </tr>\n",
       "  </tbody>\n",
       "</table>\n",
       "</div>"
      ],
      "text/plain": [
       "        isbn                                         book_title  \\\n",
       "0  195153448                                Classical Mythology   \n",
       "1    2005018                                       Clara Callan   \n",
       "2   60973129                               Decision in Normandy   \n",
       "3  374157065  Flu: The Story of the Great Influenza Pandemic...   \n",
       "4  393045218                             The Mummies of Urumchi   \n",
       "\n",
       "            book_author year_of_publication                   publisher  \n",
       "0    Mark P. O. Morford                2002     Oxford University Press  \n",
       "1  Richard Bruce Wright                2001       HarperFlamingo Canada  \n",
       "2          Carlo D'Este                1991             HarperPerennial  \n",
       "3      Gina Bari Kolata                1999        Farrar Straus Giroux  \n",
       "4       E. J. W. Barber                1999  W. W. Norton &amp; Company  "
      ]
     },
     "execution_count": 11,
     "metadata": {},
     "output_type": "execute_result"
    }
   ],
   "source": [
    "bx_books = pd.read_csv('BX-Books.csv',\n",
    "                       encoding = \"ISO-8859-1\")\n",
    "bx_books.head()"
   ]
  },
  {
   "cell_type": "code",
   "execution_count": 12,
   "id": "0d886922",
   "metadata": {},
   "outputs": [
    {
     "name": "stdout",
     "output_type": "stream",
     "text": [
      "<class 'pandas.core.frame.DataFrame'>\n",
      "RangeIndex: 271379 entries, 0 to 271378\n",
      "Data columns (total 5 columns):\n",
      " #   Column               Non-Null Count   Dtype \n",
      "---  ------               --------------   ----- \n",
      " 0   isbn                 271379 non-null  object\n",
      " 1   book_title           271379 non-null  object\n",
      " 2   book_author          271378 non-null  object\n",
      " 3   year_of_publication  271379 non-null  object\n",
      " 4   publisher            271377 non-null  object\n",
      "dtypes: object(5)\n",
      "memory usage: 10.4+ MB\n"
     ]
    }
   ],
   "source": [
    "bx_books.info()"
   ]
  },
  {
   "cell_type": "code",
   "execution_count": 16,
   "id": "7b74bb12",
   "metadata": {},
   "outputs": [
    {
     "data": {
      "text/plain": [
       "271379"
      ]
     },
     "execution_count": 16,
     "metadata": {},
     "output_type": "execute_result"
    }
   ],
   "source": [
    "bx_books.isbn.nunique()"
   ]
  },
  {
   "cell_type": "markdown",
   "id": "d9cf0a3d",
   "metadata": {},
   "source": [
    "**271379 unique isbn values**"
   ]
  },
  {
   "cell_type": "markdown",
   "id": "3b36839d",
   "metadata": {},
   "source": [
    "# Clean up NaN values"
   ]
  },
  {
   "cell_type": "code",
   "execution_count": 19,
   "id": "10bd7308",
   "metadata": {},
   "outputs": [
    {
     "data": {
      "text/plain": [
       "isbn                   0\n",
       "book_title             0\n",
       "book_author            1\n",
       "year_of_publication    0\n",
       "publisher              2\n",
       "dtype: int64"
      ]
     },
     "execution_count": 19,
     "metadata": {},
     "output_type": "execute_result"
    }
   ],
   "source": [
    "bx_books.isnull().sum()"
   ]
  },
  {
   "cell_type": "markdown",
   "id": "65309eaa",
   "metadata": {},
   "source": [
    "## Drop the null values"
   ]
  },
  {
   "cell_type": "code",
   "execution_count": 20,
   "id": "e1b80af1",
   "metadata": {},
   "outputs": [
    {
     "data": {
      "text/plain": [
       "isbn                   0\n",
       "book_title             0\n",
       "book_author            0\n",
       "year_of_publication    0\n",
       "publisher              0\n",
       "dtype: int64"
      ]
     },
     "execution_count": 20,
     "metadata": {},
     "output_type": "execute_result"
    }
   ],
   "source": [
    "bx_books = bx_books.dropna()\n",
    "bx_books.isnull().sum()"
   ]
  },
  {
   "cell_type": "markdown",
   "id": "035ce39f",
   "metadata": {},
   "source": [
    "# Read the data where ratings are given by users"
   ]
  },
  {
   "cell_type": "code",
   "execution_count": 13,
   "id": "53f6f2e0",
   "metadata": {},
   "outputs": [
    {
     "data": {
      "text/html": [
       "<div>\n",
       "<style scoped>\n",
       "    .dataframe tbody tr th:only-of-type {\n",
       "        vertical-align: middle;\n",
       "    }\n",
       "\n",
       "    .dataframe tbody tr th {\n",
       "        vertical-align: top;\n",
       "    }\n",
       "\n",
       "    .dataframe thead th {\n",
       "        text-align: right;\n",
       "    }\n",
       "</style>\n",
       "<table border=\"1\" class=\"dataframe\">\n",
       "  <thead>\n",
       "    <tr style=\"text-align: right;\">\n",
       "      <th></th>\n",
       "      <th>user_id</th>\n",
       "      <th>isbn</th>\n",
       "      <th>rating</th>\n",
       "    </tr>\n",
       "  </thead>\n",
       "  <tbody>\n",
       "    <tr>\n",
       "      <th>0</th>\n",
       "      <td>276725</td>\n",
       "      <td>034545104X</td>\n",
       "      <td>0</td>\n",
       "    </tr>\n",
       "    <tr>\n",
       "      <th>1</th>\n",
       "      <td>276726</td>\n",
       "      <td>155061224</td>\n",
       "      <td>5</td>\n",
       "    </tr>\n",
       "    <tr>\n",
       "      <th>2</th>\n",
       "      <td>276727</td>\n",
       "      <td>446520802</td>\n",
       "      <td>0</td>\n",
       "    </tr>\n",
       "    <tr>\n",
       "      <th>3</th>\n",
       "      <td>276729</td>\n",
       "      <td>052165615X</td>\n",
       "      <td>3</td>\n",
       "    </tr>\n",
       "    <tr>\n",
       "      <th>4</th>\n",
       "      <td>276729</td>\n",
       "      <td>521795028</td>\n",
       "      <td>6</td>\n",
       "    </tr>\n",
       "  </tbody>\n",
       "</table>\n",
       "</div>"
      ],
      "text/plain": [
       "   user_id        isbn  rating\n",
       "0   276725  034545104X       0\n",
       "1   276726   155061224       5\n",
       "2   276727   446520802       0\n",
       "3   276729  052165615X       3\n",
       "4   276729   521795028       6"
      ]
     },
     "execution_count": 13,
     "metadata": {},
     "output_type": "execute_result"
    }
   ],
   "source": [
    "bx_book_ratings = pd.read_csv('BX-Book-Ratings.csv',\n",
    "                              encoding = \"ISO-8859-1\")\n",
    "bx_book_ratings.head()"
   ]
  },
  {
   "cell_type": "code",
   "execution_count": 14,
   "id": "309f9fe2",
   "metadata": {},
   "outputs": [
    {
     "name": "stdout",
     "output_type": "stream",
     "text": [
      "<class 'pandas.core.frame.DataFrame'>\n",
      "RangeIndex: 1048575 entries, 0 to 1048574\n",
      "Data columns (total 3 columns):\n",
      " #   Column   Non-Null Count    Dtype \n",
      "---  ------   --------------    ----- \n",
      " 0   user_id  1048575 non-null  int64 \n",
      " 1   isbn     1048575 non-null  object\n",
      " 2   rating   1048575 non-null  int64 \n",
      "dtypes: int64(2), object(1)\n",
      "memory usage: 24.0+ MB\n"
     ]
    }
   ],
   "source": [
    "bx_book_ratings.info()"
   ]
  },
  {
   "cell_type": "code",
   "execution_count": 22,
   "id": "54852ca0",
   "metadata": {},
   "outputs": [
    {
     "data": {
      "text/plain": [
       "user_id    0\n",
       "isbn       0\n",
       "rating     0\n",
       "dtype: int64"
      ]
     },
     "execution_count": 22,
     "metadata": {},
     "output_type": "execute_result"
    }
   ],
   "source": [
    "bx_book_ratings.isnull().sum()"
   ]
  },
  {
   "cell_type": "markdown",
   "id": "4eed5791",
   "metadata": {},
   "source": [
    "**No missing values in the dataset**"
   ]
  },
  {
   "cell_type": "markdown",
   "id": "e4f1d73a",
   "metadata": {},
   "source": [
    "# Take a quick look at the number of unique users and books"
   ]
  },
  {
   "cell_type": "code",
   "execution_count": 23,
   "id": "8a5e18ee",
   "metadata": {},
   "outputs": [
    {
     "name": "stdout",
     "output_type": "stream",
     "text": [
      "Num. of Users: 95513\n",
      "Num of Books: 322102\n"
     ]
    }
   ],
   "source": [
    "# Code for checking number of unique users and books. \n",
    "n_users = bx_book_ratings.user_id.nunique()\n",
    "n_books = bx_book_ratings.isbn.nunique()\n",
    "\n",
    "print('Num. of Users: '+ str(n_users))\n",
    "print('Num of Books: '+str(n_books))"
   ]
  },
  {
   "cell_type": "markdown",
   "id": "d1394f47",
   "metadata": {},
   "source": [
    "# Convert ISBN variables to numeric numbers in the correct order"
   ]
  },
  {
   "cell_type": "code",
   "execution_count": 26,
   "id": "3f200f82",
   "metadata": {},
   "outputs": [
    {
     "data": {
      "text/plain": [
       "195153448     1\n",
       "785339876     1\n",
       "077108482X    1\n",
       "207124310     1\n",
       "439172543     1\n",
       "590408518     1\n",
       "902375512     1\n",
       "1885222831    1\n",
       "732909449     1\n",
       "330337408     1\n",
       "Name: isbn, dtype: int64"
      ]
     },
     "execution_count": 26,
     "metadata": {},
     "output_type": "execute_result"
    }
   ],
   "source": [
    "bx_books.isbn.value_counts().nlargest(10)"
   ]
  },
  {
   "cell_type": "code",
   "execution_count": 28,
   "id": "f56d8cf0",
   "metadata": {},
   "outputs": [
    {
     "data": {
      "text/plain": [
       "971880107     2264\n",
       "316666343     1164\n",
       "385504209      813\n",
       "312195516      668\n",
       "60928336       662\n",
       "044023722X     595\n",
       "679781587      578\n",
       "142001740      555\n",
       "067976402X     552\n",
       "671027360      536\n",
       "Name: isbn, dtype: int64"
      ]
     },
     "execution_count": 28,
     "metadata": {},
     "output_type": "execute_result"
    }
   ],
   "source": [
    "bx_book_ratings.isbn.value_counts().nlargest(10)"
   ]
  },
  {
   "cell_type": "markdown",
   "id": "890cd1a1",
   "metadata": {},
   "source": [
    "## Merge the bx_books and bx_books_rating datasets"
   ]
  },
  {
   "cell_type": "code",
   "execution_count": 29,
   "id": "d79087af",
   "metadata": {},
   "outputs": [
    {
     "data": {
      "text/html": [
       "<div>\n",
       "<style scoped>\n",
       "    .dataframe tbody tr th:only-of-type {\n",
       "        vertical-align: middle;\n",
       "    }\n",
       "\n",
       "    .dataframe tbody tr th {\n",
       "        vertical-align: top;\n",
       "    }\n",
       "\n",
       "    .dataframe thead th {\n",
       "        text-align: right;\n",
       "    }\n",
       "</style>\n",
       "<table border=\"1\" class=\"dataframe\">\n",
       "  <thead>\n",
       "    <tr style=\"text-align: right;\">\n",
       "      <th></th>\n",
       "      <th>isbn</th>\n",
       "      <th>book_title</th>\n",
       "      <th>book_author</th>\n",
       "      <th>year_of_publication</th>\n",
       "      <th>publisher</th>\n",
       "      <th>user_id</th>\n",
       "      <th>rating</th>\n",
       "    </tr>\n",
       "  </thead>\n",
       "  <tbody>\n",
       "    <tr>\n",
       "      <th>0</th>\n",
       "      <td>195153448</td>\n",
       "      <td>Classical Mythology</td>\n",
       "      <td>Mark P. O. Morford</td>\n",
       "      <td>2002</td>\n",
       "      <td>Oxford University Press</td>\n",
       "      <td>2</td>\n",
       "      <td>0</td>\n",
       "    </tr>\n",
       "    <tr>\n",
       "      <th>1</th>\n",
       "      <td>2005018</td>\n",
       "      <td>Clara Callan</td>\n",
       "      <td>Richard Bruce Wright</td>\n",
       "      <td>2001</td>\n",
       "      <td>HarperFlamingo Canada</td>\n",
       "      <td>8</td>\n",
       "      <td>5</td>\n",
       "    </tr>\n",
       "    <tr>\n",
       "      <th>2</th>\n",
       "      <td>2005018</td>\n",
       "      <td>Clara Callan</td>\n",
       "      <td>Richard Bruce Wright</td>\n",
       "      <td>2001</td>\n",
       "      <td>HarperFlamingo Canada</td>\n",
       "      <td>11400</td>\n",
       "      <td>0</td>\n",
       "    </tr>\n",
       "    <tr>\n",
       "      <th>3</th>\n",
       "      <td>2005018</td>\n",
       "      <td>Clara Callan</td>\n",
       "      <td>Richard Bruce Wright</td>\n",
       "      <td>2001</td>\n",
       "      <td>HarperFlamingo Canada</td>\n",
       "      <td>11676</td>\n",
       "      <td>8</td>\n",
       "    </tr>\n",
       "    <tr>\n",
       "      <th>4</th>\n",
       "      <td>2005018</td>\n",
       "      <td>Clara Callan</td>\n",
       "      <td>Richard Bruce Wright</td>\n",
       "      <td>2001</td>\n",
       "      <td>HarperFlamingo Canada</td>\n",
       "      <td>41385</td>\n",
       "      <td>0</td>\n",
       "    </tr>\n",
       "  </tbody>\n",
       "</table>\n",
       "</div>"
      ],
      "text/plain": [
       "        isbn           book_title           book_author year_of_publication  \\\n",
       "0  195153448  Classical Mythology    Mark P. O. Morford                2002   \n",
       "1    2005018         Clara Callan  Richard Bruce Wright                2001   \n",
       "2    2005018         Clara Callan  Richard Bruce Wright                2001   \n",
       "3    2005018         Clara Callan  Richard Bruce Wright                2001   \n",
       "4    2005018         Clara Callan  Richard Bruce Wright                2001   \n",
       "\n",
       "                 publisher  user_id  rating  \n",
       "0  Oxford University Press        2       0  \n",
       "1    HarperFlamingo Canada        8       5  \n",
       "2    HarperFlamingo Canada    11400       0  \n",
       "3    HarperFlamingo Canada    11676       8  \n",
       "4    HarperFlamingo Canada    41385       0  "
      ]
     },
     "execution_count": 29,
     "metadata": {},
     "output_type": "execute_result"
    }
   ],
   "source": [
    "final_df_books_ratings = pd.merge(bx_books,\n",
    "                                  bx_book_ratings,\n",
    "                                  on='isbn')\n",
    "final_df_books_ratings.head()"
   ]
  },
  {
   "cell_type": "code",
   "execution_count": 30,
   "id": "d0def554",
   "metadata": {},
   "outputs": [
    {
     "name": "stdout",
     "output_type": "stream",
     "text": [
      "<class 'pandas.core.frame.DataFrame'>\n",
      "Int64Index: 941145 entries, 0 to 941144\n",
      "Data columns (total 7 columns):\n",
      " #   Column               Non-Null Count   Dtype \n",
      "---  ------               --------------   ----- \n",
      " 0   isbn                 941145 non-null  object\n",
      " 1   book_title           941145 non-null  object\n",
      " 2   book_author          941145 non-null  object\n",
      " 3   year_of_publication  941145 non-null  object\n",
      " 4   publisher            941145 non-null  object\n",
      " 5   user_id              941145 non-null  int64 \n",
      " 6   rating               941145 non-null  int64 \n",
      "dtypes: int64(2), object(5)\n",
      "memory usage: 57.4+ MB\n"
     ]
    }
   ],
   "source": [
    "final_df_books_ratings.info()"
   ]
  },
  {
   "cell_type": "code",
   "execution_count": 31,
   "id": "cc0ae5b8",
   "metadata": {},
   "outputs": [
    {
     "name": "stdout",
     "output_type": "stream",
     "text": [
      "Num. of Users: 83644\n",
      "Num of Books: 257829\n"
     ]
    }
   ],
   "source": [
    "# Code for checking number of unique users and books. \n",
    "n_users = final_df_books_ratings.user_id.nunique()\n",
    "n_books = final_df_books_ratings.isbn.nunique()\n",
    "\n",
    "print('Num. of Users: '+ str(n_users))\n",
    "print('Num of Books: '+str(n_books))"
   ]
  },
  {
   "cell_type": "markdown",
   "id": "d3c38462",
   "metadata": {},
   "source": [
    "## Convert ISBN variables to numeric numbers in the correct order¶"
   ]
  },
  {
   "cell_type": "code",
   "execution_count": 32,
   "id": "fa3314f2",
   "metadata": {},
   "outputs": [
    {
     "name": "stdout",
     "output_type": "stream",
     "text": [
      " Length of isbn List: 257829\n"
     ]
    }
   ],
   "source": [
    "# Convert and print length of isbn list\n",
    "isbn_list = final_df_books_ratings.isbn.unique()\n",
    "print(\" Length of isbn List:\", len(isbn_list))\n",
    "\n",
    "def get_isbn_numeric_id(isbn):\n",
    "    #print (\"  isbn is:\" , isbn)\n",
    "    itemindex = np.where(isbn_list==isbn)\n",
    "    return itemindex[0][0]"
   ]
  },
  {
   "cell_type": "code",
   "execution_count": 33,
   "id": "1e8730d5",
   "metadata": {},
   "outputs": [
    {
     "data": {
      "text/html": [
       "<div>\n",
       "<style scoped>\n",
       "    .dataframe tbody tr th:only-of-type {\n",
       "        vertical-align: middle;\n",
       "    }\n",
       "\n",
       "    .dataframe tbody tr th {\n",
       "        vertical-align: top;\n",
       "    }\n",
       "\n",
       "    .dataframe thead th {\n",
       "        text-align: right;\n",
       "    }\n",
       "</style>\n",
       "<table border=\"1\" class=\"dataframe\">\n",
       "  <thead>\n",
       "    <tr style=\"text-align: right;\">\n",
       "      <th></th>\n",
       "      <th>isbn</th>\n",
       "      <th>book_title</th>\n",
       "      <th>book_author</th>\n",
       "      <th>year_of_publication</th>\n",
       "      <th>publisher</th>\n",
       "      <th>user_id</th>\n",
       "      <th>rating</th>\n",
       "      <th>isbn_id</th>\n",
       "    </tr>\n",
       "  </thead>\n",
       "  <tbody>\n",
       "    <tr>\n",
       "      <th>0</th>\n",
       "      <td>195153448</td>\n",
       "      <td>Classical Mythology</td>\n",
       "      <td>Mark P. O. Morford</td>\n",
       "      <td>2002</td>\n",
       "      <td>Oxford University Press</td>\n",
       "      <td>2</td>\n",
       "      <td>0</td>\n",
       "      <td>0</td>\n",
       "    </tr>\n",
       "    <tr>\n",
       "      <th>1</th>\n",
       "      <td>2005018</td>\n",
       "      <td>Clara Callan</td>\n",
       "      <td>Richard Bruce Wright</td>\n",
       "      <td>2001</td>\n",
       "      <td>HarperFlamingo Canada</td>\n",
       "      <td>8</td>\n",
       "      <td>5</td>\n",
       "      <td>1</td>\n",
       "    </tr>\n",
       "    <tr>\n",
       "      <th>2</th>\n",
       "      <td>2005018</td>\n",
       "      <td>Clara Callan</td>\n",
       "      <td>Richard Bruce Wright</td>\n",
       "      <td>2001</td>\n",
       "      <td>HarperFlamingo Canada</td>\n",
       "      <td>11400</td>\n",
       "      <td>0</td>\n",
       "      <td>1</td>\n",
       "    </tr>\n",
       "    <tr>\n",
       "      <th>3</th>\n",
       "      <td>2005018</td>\n",
       "      <td>Clara Callan</td>\n",
       "      <td>Richard Bruce Wright</td>\n",
       "      <td>2001</td>\n",
       "      <td>HarperFlamingo Canada</td>\n",
       "      <td>11676</td>\n",
       "      <td>8</td>\n",
       "      <td>1</td>\n",
       "    </tr>\n",
       "    <tr>\n",
       "      <th>4</th>\n",
       "      <td>2005018</td>\n",
       "      <td>Clara Callan</td>\n",
       "      <td>Richard Bruce Wright</td>\n",
       "      <td>2001</td>\n",
       "      <td>HarperFlamingo Canada</td>\n",
       "      <td>41385</td>\n",
       "      <td>0</td>\n",
       "      <td>1</td>\n",
       "    </tr>\n",
       "  </tbody>\n",
       "</table>\n",
       "</div>"
      ],
      "text/plain": [
       "        isbn           book_title           book_author year_of_publication  \\\n",
       "0  195153448  Classical Mythology    Mark P. O. Morford                2002   \n",
       "1    2005018         Clara Callan  Richard Bruce Wright                2001   \n",
       "2    2005018         Clara Callan  Richard Bruce Wright                2001   \n",
       "3    2005018         Clara Callan  Richard Bruce Wright                2001   \n",
       "4    2005018         Clara Callan  Richard Bruce Wright                2001   \n",
       "\n",
       "                 publisher  user_id  rating  isbn_id  \n",
       "0  Oxford University Press        2       0        0  \n",
       "1    HarperFlamingo Canada        8       5        1  \n",
       "2    HarperFlamingo Canada    11400       0        1  \n",
       "3    HarperFlamingo Canada    11676       8        1  \n",
       "4    HarperFlamingo Canada    41385       0        1  "
      ]
     },
     "execution_count": 33,
     "metadata": {},
     "output_type": "execute_result"
    }
   ],
   "source": [
    "final_df_books_ratings['isbn_id'] = final_df_books_ratings['isbn'].apply(get_isbn_numeric_id)\n",
    "final_df_books_ratings.head()"
   ]
  },
  {
   "cell_type": "code",
   "execution_count": 34,
   "id": "5a364795",
   "metadata": {},
   "outputs": [
    {
     "name": "stdout",
     "output_type": "stream",
     "text": [
      "<class 'pandas.core.frame.DataFrame'>\n",
      "Int64Index: 941145 entries, 0 to 941144\n",
      "Data columns (total 8 columns):\n",
      " #   Column               Non-Null Count   Dtype \n",
      "---  ------               --------------   ----- \n",
      " 0   isbn                 941145 non-null  object\n",
      " 1   book_title           941145 non-null  object\n",
      " 2   book_author          941145 non-null  object\n",
      " 3   year_of_publication  941145 non-null  object\n",
      " 4   publisher            941145 non-null  object\n",
      " 5   user_id              941145 non-null  int64 \n",
      " 6   rating               941145 non-null  int64 \n",
      " 7   isbn_id              941145 non-null  int64 \n",
      "dtypes: int64(3), object(5)\n",
      "memory usage: 64.6+ MB\n"
     ]
    }
   ],
   "source": [
    "final_df_books_ratings.info()"
   ]
  },
  {
   "cell_type": "code",
   "execution_count": 35,
   "id": "eb480e99",
   "metadata": {},
   "outputs": [
    {
     "data": {
      "text/plain": [
       "isbn                   0\n",
       "book_title             0\n",
       "book_author            0\n",
       "year_of_publication    0\n",
       "publisher              0\n",
       "user_id                0\n",
       "rating                 0\n",
       "isbn_id                0\n",
       "dtype: int64"
      ]
     },
     "execution_count": 35,
     "metadata": {},
     "output_type": "execute_result"
    }
   ],
   "source": [
    "final_df_books_ratings.isnull().sum()"
   ]
  },
  {
   "cell_type": "markdown",
   "id": "b272b472",
   "metadata": {},
   "source": [
    "**No missing values in the data**"
   ]
  },
  {
   "cell_type": "markdown",
   "id": "ab1c351f",
   "metadata": {},
   "source": [
    "# Convert the user_id variable to numeric numbers in the correct order"
   ]
  },
  {
   "cell_type": "code",
   "execution_count": 36,
   "id": "f362f0c5",
   "metadata": {},
   "outputs": [
    {
     "name": "stdout",
     "output_type": "stream",
     "text": [
      " Length of user_id List: 83644\n"
     ]
    }
   ],
   "source": [
    "userid_list = final_df_books_ratings.user_id.unique()\n",
    "print(\" Length of user_id List:\", len(userid_list))\n",
    "\n",
    "def get_user_id_numeric_id(user_id):\n",
    "    #print (\"  isbn is:\" , isbn)\n",
    "    itemindex = np.where(userid_list == user_id)\n",
    "    return itemindex[0][0]"
   ]
  },
  {
   "cell_type": "code",
   "execution_count": 37,
   "id": "2ebd8dc5",
   "metadata": {},
   "outputs": [
    {
     "data": {
      "text/html": [
       "<div>\n",
       "<style scoped>\n",
       "    .dataframe tbody tr th:only-of-type {\n",
       "        vertical-align: middle;\n",
       "    }\n",
       "\n",
       "    .dataframe tbody tr th {\n",
       "        vertical-align: top;\n",
       "    }\n",
       "\n",
       "    .dataframe thead th {\n",
       "        text-align: right;\n",
       "    }\n",
       "</style>\n",
       "<table border=\"1\" class=\"dataframe\">\n",
       "  <thead>\n",
       "    <tr style=\"text-align: right;\">\n",
       "      <th></th>\n",
       "      <th>isbn</th>\n",
       "      <th>book_title</th>\n",
       "      <th>book_author</th>\n",
       "      <th>year_of_publication</th>\n",
       "      <th>publisher</th>\n",
       "      <th>user_id</th>\n",
       "      <th>rating</th>\n",
       "      <th>isbn_id</th>\n",
       "      <th>user_id_order</th>\n",
       "    </tr>\n",
       "  </thead>\n",
       "  <tbody>\n",
       "    <tr>\n",
       "      <th>0</th>\n",
       "      <td>195153448</td>\n",
       "      <td>Classical Mythology</td>\n",
       "      <td>Mark P. O. Morford</td>\n",
       "      <td>2002</td>\n",
       "      <td>Oxford University Press</td>\n",
       "      <td>2</td>\n",
       "      <td>0</td>\n",
       "      <td>0</td>\n",
       "      <td>0</td>\n",
       "    </tr>\n",
       "    <tr>\n",
       "      <th>1</th>\n",
       "      <td>2005018</td>\n",
       "      <td>Clara Callan</td>\n",
       "      <td>Richard Bruce Wright</td>\n",
       "      <td>2001</td>\n",
       "      <td>HarperFlamingo Canada</td>\n",
       "      <td>8</td>\n",
       "      <td>5</td>\n",
       "      <td>1</td>\n",
       "      <td>1</td>\n",
       "    </tr>\n",
       "    <tr>\n",
       "      <th>2</th>\n",
       "      <td>2005018</td>\n",
       "      <td>Clara Callan</td>\n",
       "      <td>Richard Bruce Wright</td>\n",
       "      <td>2001</td>\n",
       "      <td>HarperFlamingo Canada</td>\n",
       "      <td>11400</td>\n",
       "      <td>0</td>\n",
       "      <td>1</td>\n",
       "      <td>2</td>\n",
       "    </tr>\n",
       "    <tr>\n",
       "      <th>3</th>\n",
       "      <td>2005018</td>\n",
       "      <td>Clara Callan</td>\n",
       "      <td>Richard Bruce Wright</td>\n",
       "      <td>2001</td>\n",
       "      <td>HarperFlamingo Canada</td>\n",
       "      <td>11676</td>\n",
       "      <td>8</td>\n",
       "      <td>1</td>\n",
       "      <td>3</td>\n",
       "    </tr>\n",
       "    <tr>\n",
       "      <th>4</th>\n",
       "      <td>2005018</td>\n",
       "      <td>Clara Callan</td>\n",
       "      <td>Richard Bruce Wright</td>\n",
       "      <td>2001</td>\n",
       "      <td>HarperFlamingo Canada</td>\n",
       "      <td>41385</td>\n",
       "      <td>0</td>\n",
       "      <td>1</td>\n",
       "      <td>4</td>\n",
       "    </tr>\n",
       "  </tbody>\n",
       "</table>\n",
       "</div>"
      ],
      "text/plain": [
       "        isbn           book_title           book_author year_of_publication  \\\n",
       "0  195153448  Classical Mythology    Mark P. O. Morford                2002   \n",
       "1    2005018         Clara Callan  Richard Bruce Wright                2001   \n",
       "2    2005018         Clara Callan  Richard Bruce Wright                2001   \n",
       "3    2005018         Clara Callan  Richard Bruce Wright                2001   \n",
       "4    2005018         Clara Callan  Richard Bruce Wright                2001   \n",
       "\n",
       "                 publisher  user_id  rating  isbn_id  user_id_order  \n",
       "0  Oxford University Press        2       0        0              0  \n",
       "1    HarperFlamingo Canada        8       5        1              1  \n",
       "2    HarperFlamingo Canada    11400       0        1              2  \n",
       "3    HarperFlamingo Canada    11676       8        1              3  \n",
       "4    HarperFlamingo Canada    41385       0        1              4  "
      ]
     },
     "execution_count": 37,
     "metadata": {},
     "output_type": "execute_result"
    }
   ],
   "source": [
    "final_df_books_ratings['user_id_order'] = final_df_books_ratings['user_id'].apply(get_user_id_numeric_id)\n",
    "final_df_books_ratings.head()"
   ]
  },
  {
   "cell_type": "code",
   "execution_count": 38,
   "id": "4f19165d",
   "metadata": {},
   "outputs": [
    {
     "data": {
      "text/plain": [
       "3        11147\n",
       "365       6456\n",
       "547       5817\n",
       "3960      5777\n",
       "120       5646\n",
       "         ...  \n",
       "45140        1\n",
       "45141        1\n",
       "45143        1\n",
       "45144        1\n",
       "83643        1\n",
       "Name: user_id_order, Length: 83644, dtype: int64"
      ]
     },
     "execution_count": 38,
     "metadata": {},
     "output_type": "execute_result"
    }
   ],
   "source": [
    "final_df_books_ratings.user_id_order.value_counts()"
   ]
  },
  {
   "cell_type": "code",
   "execution_count": 39,
   "id": "646117ef",
   "metadata": {},
   "outputs": [
    {
     "data": {
      "text/plain": [
       "26        2264\n",
       "408       1164\n",
       "748        813\n",
       "522        668\n",
       "1105       662\n",
       "          ... \n",
       "140173       1\n",
       "140174       1\n",
       "140175       1\n",
       "140180       1\n",
       "257828       1\n",
       "Name: isbn_id, Length: 257829, dtype: int64"
      ]
     },
     "execution_count": 39,
     "metadata": {},
     "output_type": "execute_result"
    }
   ],
   "source": [
    "final_df_books_ratings.isbn_id.value_counts()"
   ]
  },
  {
   "cell_type": "markdown",
   "id": "47891d40",
   "metadata": {},
   "source": [
    "# Convert both user_id and ISBN to the ordered list, i.e., from 0...n-1"
   ]
  },
  {
   "cell_type": "markdown",
   "id": "5572db8f",
   "metadata": {},
   "source": [
    "Completed above"
   ]
  },
  {
   "cell_type": "markdown",
   "id": "f5291e03",
   "metadata": {},
   "source": [
    "# Re-index the columns to build a matrix"
   ]
  },
  {
   "cell_type": "code",
   "execution_count": 40,
   "id": "23567fa4",
   "metadata": {},
   "outputs": [
    {
     "data": {
      "text/html": [
       "<div>\n",
       "<style scoped>\n",
       "    .dataframe tbody tr th:only-of-type {\n",
       "        vertical-align: middle;\n",
       "    }\n",
       "\n",
       "    .dataframe tbody tr th {\n",
       "        vertical-align: top;\n",
       "    }\n",
       "\n",
       "    .dataframe thead th {\n",
       "        text-align: right;\n",
       "    }\n",
       "</style>\n",
       "<table border=\"1\" class=\"dataframe\">\n",
       "  <thead>\n",
       "    <tr style=\"text-align: right;\">\n",
       "      <th></th>\n",
       "      <th>user_id_order</th>\n",
       "      <th>isbn_id</th>\n",
       "      <th>rating</th>\n",
       "      <th>book_title</th>\n",
       "      <th>book_author</th>\n",
       "      <th>year_of_publication</th>\n",
       "      <th>publisher</th>\n",
       "      <th>isbn</th>\n",
       "      <th>user_id</th>\n",
       "    </tr>\n",
       "  </thead>\n",
       "  <tbody>\n",
       "    <tr>\n",
       "      <th>0</th>\n",
       "      <td>0</td>\n",
       "      <td>0</td>\n",
       "      <td>0</td>\n",
       "      <td>Classical Mythology</td>\n",
       "      <td>Mark P. O. Morford</td>\n",
       "      <td>2002</td>\n",
       "      <td>Oxford University Press</td>\n",
       "      <td>195153448</td>\n",
       "      <td>2</td>\n",
       "    </tr>\n",
       "    <tr>\n",
       "      <th>1</th>\n",
       "      <td>1</td>\n",
       "      <td>1</td>\n",
       "      <td>5</td>\n",
       "      <td>Clara Callan</td>\n",
       "      <td>Richard Bruce Wright</td>\n",
       "      <td>2001</td>\n",
       "      <td>HarperFlamingo Canada</td>\n",
       "      <td>2005018</td>\n",
       "      <td>8</td>\n",
       "    </tr>\n",
       "    <tr>\n",
       "      <th>2</th>\n",
       "      <td>2</td>\n",
       "      <td>1</td>\n",
       "      <td>0</td>\n",
       "      <td>Clara Callan</td>\n",
       "      <td>Richard Bruce Wright</td>\n",
       "      <td>2001</td>\n",
       "      <td>HarperFlamingo Canada</td>\n",
       "      <td>2005018</td>\n",
       "      <td>11400</td>\n",
       "    </tr>\n",
       "    <tr>\n",
       "      <th>3</th>\n",
       "      <td>3</td>\n",
       "      <td>1</td>\n",
       "      <td>8</td>\n",
       "      <td>Clara Callan</td>\n",
       "      <td>Richard Bruce Wright</td>\n",
       "      <td>2001</td>\n",
       "      <td>HarperFlamingo Canada</td>\n",
       "      <td>2005018</td>\n",
       "      <td>11676</td>\n",
       "    </tr>\n",
       "    <tr>\n",
       "      <th>4</th>\n",
       "      <td>4</td>\n",
       "      <td>1</td>\n",
       "      <td>0</td>\n",
       "      <td>Clara Callan</td>\n",
       "      <td>Richard Bruce Wright</td>\n",
       "      <td>2001</td>\n",
       "      <td>HarperFlamingo Canada</td>\n",
       "      <td>2005018</td>\n",
       "      <td>41385</td>\n",
       "    </tr>\n",
       "  </tbody>\n",
       "</table>\n",
       "</div>"
      ],
      "text/plain": [
       "   user_id_order  isbn_id  rating           book_title           book_author  \\\n",
       "0              0        0       0  Classical Mythology    Mark P. O. Morford   \n",
       "1              1        1       5         Clara Callan  Richard Bruce Wright   \n",
       "2              2        1       0         Clara Callan  Richard Bruce Wright   \n",
       "3              3        1       8         Clara Callan  Richard Bruce Wright   \n",
       "4              4        1       0         Clara Callan  Richard Bruce Wright   \n",
       "\n",
       "  year_of_publication                publisher       isbn  user_id  \n",
       "0                2002  Oxford University Press  195153448        2  \n",
       "1                2001    HarperFlamingo Canada    2005018        8  \n",
       "2                2001    HarperFlamingo Canada    2005018    11400  \n",
       "3                2001    HarperFlamingo Canada    2005018    11676  \n",
       "4                2001    HarperFlamingo Canada    2005018    41385  "
      ]
     },
     "execution_count": 40,
     "metadata": {},
     "output_type": "execute_result"
    }
   ],
   "source": [
    "# Reindexing the columns\n",
    "new_col_order = ['user_id_order', \n",
    "                 'isbn_id', \n",
    "                 'rating',\n",
    "                 'book_title', \n",
    "                 'book_author',\n",
    "                 'year_of_publication',\n",
    "                 'publisher',\n",
    "                 'isbn',\n",
    "                 'user_id']\n",
    "\n",
    "final_df_books_ratings_1 = final_df_books_ratings.reindex(columns= new_col_order)\n",
    "final_df_books_ratings_1.head()"
   ]
  },
  {
   "cell_type": "markdown",
   "id": "80e5cc1d",
   "metadata": {},
   "source": [
    "# Split your data into two sets (training and testing)"
   ]
  },
  {
   "cell_type": "code",
   "execution_count": 86,
   "id": "e0011771",
   "metadata": {},
   "outputs": [],
   "source": [
    "# Importing train_test_split model for splittig the data into train and test set.\n",
    "from sklearn.model_selection import train_test_split\n",
    "train_data, test_data = train_test_split(final_df_books_ratings_1,\n",
    "                                         test_size=0.30)"
   ]
  },
  {
   "cell_type": "code",
   "execution_count": 87,
   "id": "1172af47",
   "metadata": {},
   "outputs": [
    {
     "name": "stdout",
     "output_type": "stream",
     "text": [
      "Shape of training data (658801, 9)\n",
      "Shape of test data (282344, 9)\n"
     ]
    }
   ],
   "source": [
    "print(\"Shape of training data\",train_data.shape)\n",
    "print(\"Shape of test data\",test_data.shape)"
   ]
  },
  {
   "cell_type": "markdown",
   "id": "0b731840",
   "metadata": {},
   "source": [
    "# Make predictions based on user and item variables"
   ]
  },
  {
   "cell_type": "code",
   "execution_count": 88,
   "id": "c800fdf4",
   "metadata": {},
   "outputs": [
    {
     "name": "stdout",
     "output_type": "stream",
     "text": [
      "n_users 83644\n",
      "n_books 257829\n"
     ]
    }
   ],
   "source": [
    "print(\"n_users\",n_users)\n",
    "print(\"n_books\",n_books)"
   ]
  },
  {
   "cell_type": "code",
   "execution_count": 91,
   "id": "bca4629a",
   "metadata": {},
   "outputs": [],
   "source": [
    "# Create user-book matrix for training \n",
    "train_data_matrix = np.zeros((n_users, n_books))\n",
    "\n",
    "for line in train_data.itertuples():\n",
    "    print(\"line\", line)\n",
    "    train_data_matrix[line[1]-1, line[2]-1] = line[3]"
   ]
  },
  {
   "cell_type": "code",
   "execution_count": 92,
   "id": "be73e241",
   "metadata": {},
   "outputs": [
    {
     "name": "stdout",
     "output_type": "stream",
     "text": [
      "(83644, 257829)\n"
     ]
    },
    {
     "data": {
      "text/plain": [
       "array([[5., 0., 0., ..., 0., 0., 0.],\n",
       "       [0., 0., 0., ..., 0., 0., 0.],\n",
       "       [8., 0., 0., ..., 0., 0., 0.],\n",
       "       ...,\n",
       "       [0., 0., 0., ..., 0., 0., 0.],\n",
       "       [0., 0., 0., ..., 0., 0., 0.],\n",
       "       [0., 0., 0., ..., 0., 0., 0.]])"
      ]
     },
     "execution_count": 92,
     "metadata": {},
     "output_type": "execute_result"
    }
   ],
   "source": [
    "print(train_data_matrix.shape)\n",
    "train_data_matrix"
   ]
  },
  {
   "cell_type": "code",
   "execution_count": 93,
   "id": "903d0d44",
   "metadata": {},
   "outputs": [],
   "source": [
    "# Create user-book matrix for testing\n",
    "test_data_matrix = np.zeros((n_users, n_books))\n",
    "\n",
    "for line in test_data.itertuples():\n",
    "    test_data_matrix[line[1]-1, line[2]-1] = line[3]"
   ]
  },
  {
   "cell_type": "code",
   "execution_count": null,
   "id": "f624e26a",
   "metadata": {},
   "outputs": [],
   "source": [
    "# Importing pairwise_distances function\n",
    "from sklearn.metrics.pairwise import pairwise_distances\n",
    "\n",
    "user_similarity = pairwise_distances(train_data_matrix, \n",
    "                                     metric='cosine')\n",
    "\n",
    "item_similarity = pairwise_distances(train_data_matrix.T, \n",
    "                                     metric='cosine')"
   ]
  },
  {
   "cell_type": "code",
   "execution_count": null,
   "id": "7b3422af",
   "metadata": {},
   "outputs": [],
   "source": [
    "print(\"user_similarity\",user_similarity)\n",
    "print(\"item_similarity\",item_similarity)"
   ]
  },
  {
   "cell_type": "code",
   "execution_count": null,
   "id": "a79800c4",
   "metadata": {},
   "outputs": [],
   "source": [
    "# Defining custom function to make predictions\n",
    "def predict(ratings, similarity, type='user'):\n",
    "    \n",
    "    if type == 'user':\n",
    "        mean_user_rating = ratings.mean(axis=1)\n",
    "        \n",
    "        # We will use np.newaxis so that mean_user_rating has same format as ratings.\n",
    "        ratings_diff = (ratings - mean_user_rating[:, np.newaxis]) \n",
    "        pred = mean_user_rating[:, np.newaxis] + similarity.dot(ratings_diff) / np.array([np.abs(similarity).sum(axis=1)]).T\n",
    "    \n",
    "    elif type == 'item':\n",
    "        pred = ratings.dot(similarity) / np.array([np.abs(similarity).sum(axis=1)])     \n",
    "    \n",
    "    return pred"
   ]
  },
  {
   "cell_type": "markdown",
   "id": "9d10fcdc",
   "metadata": {},
   "source": [
    "# Use RMSE to evaluate the predictions the predictions"
   ]
  },
  {
   "cell_type": "code",
   "execution_count": null,
   "id": "b74a3974",
   "metadata": {},
   "outputs": [],
   "source": [
    "# Importing RMSE function \n",
    "from sklearn.metrics import mean_squared_error\n",
    "from math import sqrt\n",
    "\n",
    "# Defining custom function to filter out elements with ground_truth.nonzero\n",
    "def rmse(prediction, ground_truth):\n",
    "    \n",
    "    prediction = prediction[ground_truth.nonzero()].flatten() \n",
    "    \n",
    "    ground_truth = ground_truth[ground_truth.nonzero()].flatten()\n",
    "    \n",
    "    return sqrt(mean_squared_error(prediction, ground_truth))"
   ]
  },
  {
   "cell_type": "code",
   "execution_count": null,
   "id": "26ea63a3",
   "metadata": {},
   "outputs": [],
   "source": [
    "print('User-based CF RMSE: ' + str(rmse(user_prediction, test_data_matrix)))\n",
    "print('Item-based CF RMSE: ' + str(rmse(item_prediction, test_data_matrix)))"
   ]
  }
 ],
 "metadata": {
  "kernelspec": {
   "display_name": "Python 3 (ipykernel)",
   "language": "python",
   "name": "python3"
  },
  "language_info": {
   "codemirror_mode": {
    "name": "ipython",
    "version": 3
   },
   "file_extension": ".py",
   "mimetype": "text/x-python",
   "name": "python",
   "nbconvert_exporter": "python",
   "pygments_lexer": "ipython3",
   "version": "3.9.7"
  }
 },
 "nbformat": 4,
 "nbformat_minor": 5
}
